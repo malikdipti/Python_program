{
 "cells": [
  {
   "cell_type": "code",
   "execution_count": 4,
   "metadata": {},
   "outputs": [],
   "source": [
    "import requests\n",
    "import pandas as pd\n",
    "from bs4 import BeautifulSoup\n",
    "url=requests.get('https://forecast.weather.gov/MapClick.php?lat=40.71455000000003&lon=-74.00713999999994#.Xd1NuJMzbIU')\n",
    "soup=BeautifulSoup(url.content,'html.parser')\n",
    "week=soup.find(id=\"seven-day-forecast\")\n",
    "#week"
   ]
  },
  {
   "cell_type": "code",
   "execution_count": 8,
   "metadata": {},
   "outputs": [
    {
     "name": "stdout",
     "output_type": "stream",
     "text": [
      "Today\n",
      "Partly Sunny\n",
      "High: 54 °F\n"
     ]
    }
   ],
   "source": [
    "items=week.find_all(class_=\"tombstone-container\")\n",
    "\n",
    "\n",
    "#print(items[0])\n",
    "#print(items[0].find(class_=\"period-name\").get_text())\n",
    "#print(items[0].find(class_=\"short-desc\").get_text())\n",
    "#print(items[0].find(class_=\"temp\").get_text())\n",
    "\n"
   ]
  },
  {
   "cell_type": "code",
   "execution_count": 11,
   "metadata": {},
   "outputs": [],
   "source": [
    "\n",
    "#list comprehesion used\n",
    "\n",
    "period_names=[item.find(class_=\"period-name\").get_text() for item in items ]\n",
    "short_desc=[item.find(class_=\"short-desc\").get_text() for item in items ]\n",
    "tempretures=[item.find(class_=\"temp\").get_text() for item in items]\n",
    "\n",
    "#period_names\n",
    "\n"
   ]
  },
  {
   "cell_type": "code",
   "execution_count": null,
   "metadata": {},
   "outputs": [],
   "source": [
    "\n",
    "'''\n",
    "for item in items:\n",
    "    period_names=item.find(class_=\"period-name\").get_text()\n",
    "    short_desc=item.find(class_=\"short-desc\").get_text()\n",
    "    temp=item.find(class_=\"temp\").get_text()\n",
    "    #print(temp)\n",
    "'''\n",
    "whether_stuff=pd.DataFrame(\n",
    "    {\n",
    "         'Period':period_names,\n",
    "         'Short_Desc':short_desc,\n",
    "         'Temp':tempretures\n",
    "     })\n",
    "#print(whether_stuff)\n",
    "whether_stuff.to_csv('whether.csv')\n",
    "\n"
   ]
  }
 ],
 "metadata": {
  "kernelspec": {
   "display_name": "Python 3",
   "language": "python",
   "name": "python3"
  },
  "language_info": {
   "codemirror_mode": {
    "name": "ipython",
    "version": 3
   },
   "file_extension": ".py",
   "mimetype": "text/x-python",
   "name": "python",
   "nbconvert_exporter": "python",
   "pygments_lexer": "ipython3",
   "version": "3.6.5"
  }
 },
 "nbformat": 4,
 "nbformat_minor": 2
}
