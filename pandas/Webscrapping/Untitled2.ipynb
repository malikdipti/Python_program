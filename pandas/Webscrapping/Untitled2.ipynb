{
 "cells": [
  {
   "cell_type": "code",
   "execution_count": 7,
   "metadata": {},
   "outputs": [],
   "source": [
    "import pandas as pd\n",
    "import json\n",
    "input_file=open('data.json', 'r')\n",
    "#output_file=open('test.json', 'w')\n",
    "json_decode=json.load(input_file)\n",
    "#json_decode\n"
   ]
  },
  {
   "cell_type": "code",
   "execution_count": 11,
   "metadata": {},
   "outputs": [
    {
     "name": "stdout",
     "output_type": "stream",
     "text": [
      "None\n"
     ]
    }
   ],
   "source": [
    "result = []\n",
    "for item in json_decode:\n",
    "    \n",
    "   # my_dict={}\n",
    "    my_dict1=item.get('analyzeResult').get('readResults')[0].get('lines')[0].get('text')\n",
    "    my_dict2= item.get('analyzeResult').get('readResults')[0].get('lines')[0].get('words')[0].get('text')\n",
    "    my_dict3= item.get('analyzeResult').get('readResults')[0].get('lines')[0].get('words')[1].get('text')\n",
    "    my_dict4=my_dict2+my_dict3\n",
    "    t_list=[ my_dict1,my_dict4]\n",
    "    \n",
    "df = pd.DataFrame({\n",
    "    \"TEXT\":t_list\n",
    "})\n",
    "\n",
    "\n",
    "df.to_csv(\"x1.csv\")\n",
    "#d=df.to_csv(\"zz.csv\")\n",
    "#print(d)"
   ]
  },
  {
   "cell_type": "code",
   "execution_count": null,
   "metadata": {},
   "outputs": [],
   "source": []
  }
 ],
 "metadata": {
  "kernelspec": {
   "display_name": "Python 3",
   "language": "python",
   "name": "python3"
  },
  "language_info": {
   "codemirror_mode": {
    "name": "ipython",
    "version": 3
   },
   "file_extension": ".py",
   "mimetype": "text/x-python",
   "name": "python",
   "nbconvert_exporter": "python",
   "pygments_lexer": "ipython3",
   "version": "3.6.5"
  }
 },
 "nbformat": 4,
 "nbformat_minor": 2
}
