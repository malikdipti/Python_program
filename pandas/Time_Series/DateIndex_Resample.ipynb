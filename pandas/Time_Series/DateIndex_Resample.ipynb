{
 "cells": [
  {
   "cell_type": "code",
   "execution_count": 25,
   "metadata": {},
   "outputs": [
    {
     "data": {
      "text/html": [
       "<div>\n",
       "<style scoped>\n",
       "    .dataframe tbody tr th:only-of-type {\n",
       "        vertical-align: middle;\n",
       "    }\n",
       "\n",
       "    .dataframe tbody tr th {\n",
       "        vertical-align: top;\n",
       "    }\n",
       "\n",
       "    .dataframe thead th {\n",
       "        text-align: right;\n",
       "    }\n",
       "</style>\n",
       "<table border=\"1\" class=\"dataframe\">\n",
       "  <thead>\n",
       "    <tr style=\"text-align: right;\">\n",
       "      <th></th>\n",
       "      <th>Close</th>\n",
       "      <th>Volume</th>\n",
       "      <th>Open</th>\n",
       "      <th>High</th>\n",
       "      <th>Low</th>\n",
       "    </tr>\n",
       "    <tr>\n",
       "      <th>Date</th>\n",
       "      <th></th>\n",
       "      <th></th>\n",
       "      <th></th>\n",
       "      <th></th>\n",
       "      <th></th>\n",
       "    </tr>\n",
       "  </thead>\n",
       "  <tbody>\n",
       "    <tr>\n",
       "      <th>2020-02-18</th>\n",
       "      <td>$319</td>\n",
       "      <td>38190550</td>\n",
       "      <td>$315.36</td>\n",
       "      <td>$319.75</td>\n",
       "      <td>$314.61</td>\n",
       "    </tr>\n",
       "    <tr>\n",
       "      <th>2020-02-14</th>\n",
       "      <td>$324.95</td>\n",
       "      <td>20028450</td>\n",
       "      <td>$324.74</td>\n",
       "      <td>$325.98</td>\n",
       "      <td>$322.85</td>\n",
       "    </tr>\n",
       "    <tr>\n",
       "      <th>2020-02-13</th>\n",
       "      <td>$324.87</td>\n",
       "      <td>23686890</td>\n",
       "      <td>$324.19</td>\n",
       "      <td>$326.22</td>\n",
       "      <td>$323.35</td>\n",
       "    </tr>\n",
       "    <tr>\n",
       "      <th>2020-02-12</th>\n",
       "      <td>$327.20</td>\n",
       "      <td>28432570</td>\n",
       "      <td>$321.47</td>\n",
       "      <td>$327.22</td>\n",
       "      <td>$321.47</td>\n",
       "    </tr>\n",
       "    <tr>\n",
       "      <th>2020-02-11</th>\n",
       "      <td>$319.61</td>\n",
       "      <td>23580780</td>\n",
       "      <td>$323.60</td>\n",
       "      <td>$323.90</td>\n",
       "      <td>$318.71</td>\n",
       "    </tr>\n",
       "    <tr>\n",
       "      <th>2020-02-10</th>\n",
       "      <td>$321.55</td>\n",
       "      <td>27337220</td>\n",
       "      <td>$314.18</td>\n",
       "      <td>$321.55</td>\n",
       "      <td>$313.85</td>\n",
       "    </tr>\n",
       "    <tr>\n",
       "      <th>2020-02-07</th>\n",
       "      <td>$320.03</td>\n",
       "      <td>29421010</td>\n",
       "      <td>$322.37</td>\n",
       "      <td>$323.40</td>\n",
       "      <td>$318</td>\n",
       "    </tr>\n",
       "    <tr>\n",
       "      <th>2020-02-06</th>\n",
       "      <td>$325.21</td>\n",
       "      <td>26356390</td>\n",
       "      <td>$322.57</td>\n",
       "      <td>$325.22</td>\n",
       "      <td>$320.26</td>\n",
       "    </tr>\n",
       "    <tr>\n",
       "      <th>2020-02-05</th>\n",
       "      <td>$321.45</td>\n",
       "      <td>29706720</td>\n",
       "      <td>$323.52</td>\n",
       "      <td>$324.76</td>\n",
       "      <td>$318.95</td>\n",
       "    </tr>\n",
       "    <tr>\n",
       "      <th>2020-02-04</th>\n",
       "      <td>$318.85</td>\n",
       "      <td>34154130</td>\n",
       "      <td>$315.31</td>\n",
       "      <td>$319.64</td>\n",
       "      <td>$313.63</td>\n",
       "    </tr>\n",
       "    <tr>\n",
       "      <th>2020-02-03</th>\n",
       "      <td>$308.66</td>\n",
       "      <td>43496400</td>\n",
       "      <td>$304.30</td>\n",
       "      <td>$313.49</td>\n",
       "      <td>$302.22</td>\n",
       "    </tr>\n",
       "    <tr>\n",
       "      <th>2020-01-31</th>\n",
       "      <td>$309.51</td>\n",
       "      <td>49897100</td>\n",
       "      <td>$320.93</td>\n",
       "      <td>$322.68</td>\n",
       "      <td>$308.29</td>\n",
       "    </tr>\n",
       "    <tr>\n",
       "      <th>2020-01-30</th>\n",
       "      <td>$323.87</td>\n",
       "      <td>31685810</td>\n",
       "      <td>$320.54</td>\n",
       "      <td>$324.09</td>\n",
       "      <td>$318.75</td>\n",
       "    </tr>\n",
       "    <tr>\n",
       "      <th>2020-01-29</th>\n",
       "      <td>$324.34</td>\n",
       "      <td>54149930</td>\n",
       "      <td>$324.45</td>\n",
       "      <td>$327.85</td>\n",
       "      <td>$321.38</td>\n",
       "    </tr>\n",
       "    <tr>\n",
       "      <th>2020-01-28</th>\n",
       "      <td>$317.69</td>\n",
       "      <td>40558490</td>\n",
       "      <td>$312.60</td>\n",
       "      <td>$318.40</td>\n",
       "      <td>$312.19</td>\n",
       "    </tr>\n",
       "    <tr>\n",
       "      <th>2020-01-27</th>\n",
       "      <td>$308.95</td>\n",
       "      <td>40485010</td>\n",
       "      <td>$310.06</td>\n",
       "      <td>$311.77</td>\n",
       "      <td>$304.88</td>\n",
       "    </tr>\n",
       "    <tr>\n",
       "      <th>2020-01-24</th>\n",
       "      <td>$318.31</td>\n",
       "      <td>36634380</td>\n",
       "      <td>$320.25</td>\n",
       "      <td>$323.33</td>\n",
       "      <td>$317.52</td>\n",
       "    </tr>\n",
       "    <tr>\n",
       "      <th>2020-01-23</th>\n",
       "      <td>$319.23</td>\n",
       "      <td>26117990</td>\n",
       "      <td>$317.92</td>\n",
       "      <td>$319.56</td>\n",
       "      <td>$315.65</td>\n",
       "    </tr>\n",
       "    <tr>\n",
       "      <th>2020-01-22</th>\n",
       "      <td>$317.70</td>\n",
       "      <td>25458120</td>\n",
       "      <td>$318.58</td>\n",
       "      <td>$319.99</td>\n",
       "      <td>$317.31</td>\n",
       "    </tr>\n",
       "    <tr>\n",
       "      <th>2020-01-21</th>\n",
       "      <td>$316.57</td>\n",
       "      <td>27710810</td>\n",
       "      <td>$317.19</td>\n",
       "      <td>$319.02</td>\n",
       "      <td>$316</td>\n",
       "    </tr>\n",
       "  </tbody>\n",
       "</table>\n",
       "</div>"
      ],
      "text/plain": [
       "               Close    Volume      Open      High       Low\n",
       "Date                                                        \n",
       "2020-02-18     $319   38190550  $315.36   $319.75   $314.61 \n",
       "2020-02-14  $324.95   20028450  $324.74   $325.98   $322.85 \n",
       "2020-02-13  $324.87   23686890  $324.19   $326.22   $323.35 \n",
       "2020-02-12  $327.20   28432570  $321.47   $327.22   $321.47 \n",
       "2020-02-11  $319.61   23580780  $323.60   $323.90   $318.71 \n",
       "2020-02-10  $321.55   27337220  $314.18   $321.55   $313.85 \n",
       "2020-02-07  $320.03   29421010  $322.37   $323.40      $318 \n",
       "2020-02-06  $325.21   26356390  $322.57   $325.22   $320.26 \n",
       "2020-02-05  $321.45   29706720  $323.52   $324.76   $318.95 \n",
       "2020-02-04  $318.85   34154130  $315.31   $319.64   $313.63 \n",
       "2020-02-03  $308.66   43496400  $304.30   $313.49   $302.22 \n",
       "2020-01-31  $309.51   49897100  $320.93   $322.68   $308.29 \n",
       "2020-01-30  $323.87   31685810  $320.54   $324.09   $318.75 \n",
       "2020-01-29  $324.34   54149930  $324.45   $327.85   $321.38 \n",
       "2020-01-28  $317.69   40558490  $312.60   $318.40   $312.19 \n",
       "2020-01-27  $308.95   40485010  $310.06   $311.77   $304.88 \n",
       "2020-01-24  $318.31   36634380  $320.25   $323.33   $317.52 \n",
       "2020-01-23  $319.23   26117990  $317.92   $319.56   $315.65 \n",
       "2020-01-22  $317.70   25458120  $318.58   $319.99   $317.31 \n",
       "2020-01-21  $316.57   27710810  $317.19   $319.02      $316 "
      ]
     },
     "execution_count": 25,
     "metadata": {},
     "output_type": "execute_result"
    }
   ],
   "source": [
    "import pandas as pd\n",
    "df=pd.read_csv(\"HistoricalQuotes.csv\", parse_dates=[\"Date\"],index_col=\"Date\")\n",
    "df"
   ]
  },
  {
   "cell_type": "code",
   "execution_count": 2,
   "metadata": {},
   "outputs": [
    {
     "data": {
      "text/plain": [
       "DatetimeIndex(['2020-02-18', '2020-02-14', '2020-02-13', '2020-02-12',\n",
       "               '2020-02-11', '2020-02-10', '2020-02-07', '2020-02-06',\n",
       "               '2020-02-05', '2020-02-04', '2020-02-03', '2020-01-31',\n",
       "               '2020-01-30', '2020-01-29', '2020-01-28', '2020-01-27',\n",
       "               '2020-01-24', '2020-01-23', '2020-01-22', '2020-01-21'],\n",
       "              dtype='datetime64[ns]', name='Date', freq=None)"
      ]
     },
     "execution_count": 2,
     "metadata": {},
     "output_type": "execute_result"
    }
   ],
   "source": [
    "df.index"
   ]
  },
  {
   "cell_type": "code",
   "execution_count": 3,
   "metadata": {},
   "outputs": [
    {
     "data": {
      "text/html": [
       "<div>\n",
       "<style scoped>\n",
       "    .dataframe tbody tr th:only-of-type {\n",
       "        vertical-align: middle;\n",
       "    }\n",
       "\n",
       "    .dataframe tbody tr th {\n",
       "        vertical-align: top;\n",
       "    }\n",
       "\n",
       "    .dataframe thead th {\n",
       "        text-align: right;\n",
       "    }\n",
       "</style>\n",
       "<table border=\"1\" class=\"dataframe\">\n",
       "  <thead>\n",
       "    <tr style=\"text-align: right;\">\n",
       "      <th></th>\n",
       "      <th>Close</th>\n",
       "      <th>Volume</th>\n",
       "      <th>Open</th>\n",
       "      <th>High</th>\n",
       "      <th>Low</th>\n",
       "    </tr>\n",
       "    <tr>\n",
       "      <th>Date</th>\n",
       "      <th></th>\n",
       "      <th></th>\n",
       "      <th></th>\n",
       "      <th></th>\n",
       "      <th></th>\n",
       "    </tr>\n",
       "  </thead>\n",
       "  <tbody>\n",
       "    <tr>\n",
       "      <th>2020-01-31</th>\n",
       "      <td>$309.51</td>\n",
       "      <td>49897100</td>\n",
       "      <td>$320.93</td>\n",
       "      <td>$322.68</td>\n",
       "      <td>$308.29</td>\n",
       "    </tr>\n",
       "    <tr>\n",
       "      <th>2020-01-30</th>\n",
       "      <td>$323.87</td>\n",
       "      <td>31685810</td>\n",
       "      <td>$320.54</td>\n",
       "      <td>$324.09</td>\n",
       "      <td>$318.75</td>\n",
       "    </tr>\n",
       "    <tr>\n",
       "      <th>2020-01-29</th>\n",
       "      <td>$324.34</td>\n",
       "      <td>54149930</td>\n",
       "      <td>$324.45</td>\n",
       "      <td>$327.85</td>\n",
       "      <td>$321.38</td>\n",
       "    </tr>\n",
       "    <tr>\n",
       "      <th>2020-01-28</th>\n",
       "      <td>$317.69</td>\n",
       "      <td>40558490</td>\n",
       "      <td>$312.60</td>\n",
       "      <td>$318.40</td>\n",
       "      <td>$312.19</td>\n",
       "    </tr>\n",
       "    <tr>\n",
       "      <th>2020-01-27</th>\n",
       "      <td>$308.95</td>\n",
       "      <td>40485010</td>\n",
       "      <td>$310.06</td>\n",
       "      <td>$311.77</td>\n",
       "      <td>$304.88</td>\n",
       "    </tr>\n",
       "    <tr>\n",
       "      <th>2020-01-24</th>\n",
       "      <td>$318.31</td>\n",
       "      <td>36634380</td>\n",
       "      <td>$320.25</td>\n",
       "      <td>$323.33</td>\n",
       "      <td>$317.52</td>\n",
       "    </tr>\n",
       "    <tr>\n",
       "      <th>2020-01-23</th>\n",
       "      <td>$319.23</td>\n",
       "      <td>26117990</td>\n",
       "      <td>$317.92</td>\n",
       "      <td>$319.56</td>\n",
       "      <td>$315.65</td>\n",
       "    </tr>\n",
       "    <tr>\n",
       "      <th>2020-01-22</th>\n",
       "      <td>$317.70</td>\n",
       "      <td>25458120</td>\n",
       "      <td>$318.58</td>\n",
       "      <td>$319.99</td>\n",
       "      <td>$317.31</td>\n",
       "    </tr>\n",
       "    <tr>\n",
       "      <th>2020-01-21</th>\n",
       "      <td>$316.57</td>\n",
       "      <td>27710810</td>\n",
       "      <td>$317.19</td>\n",
       "      <td>$319.02</td>\n",
       "      <td>$316</td>\n",
       "    </tr>\n",
       "  </tbody>\n",
       "</table>\n",
       "</div>"
      ],
      "text/plain": [
       "               Close    Volume      Open      High       Low\n",
       "Date                                                        \n",
       "2020-01-31  $309.51   49897100  $320.93   $322.68   $308.29 \n",
       "2020-01-30  $323.87   31685810  $320.54   $324.09   $318.75 \n",
       "2020-01-29  $324.34   54149930  $324.45   $327.85   $321.38 \n",
       "2020-01-28  $317.69   40558490  $312.60   $318.40   $312.19 \n",
       "2020-01-27  $308.95   40485010  $310.06   $311.77   $304.88 \n",
       "2020-01-24  $318.31   36634380  $320.25   $323.33   $317.52 \n",
       "2020-01-23  $319.23   26117990  $317.92   $319.56   $315.65 \n",
       "2020-01-22  $317.70   25458120  $318.58   $319.99   $317.31 \n",
       "2020-01-21  $316.57   27710810  $317.19   $319.02      $316 "
      ]
     },
     "execution_count": 3,
     "metadata": {},
     "output_type": "execute_result"
    }
   ],
   "source": [
    "df['2020-01']"
   ]
  },
  {
   "cell_type": "code",
   "execution_count": 4,
   "metadata": {},
   "outputs": [
    {
     "data": {
      "text/html": [
       "<div>\n",
       "<style scoped>\n",
       "    .dataframe tbody tr th:only-of-type {\n",
       "        vertical-align: middle;\n",
       "    }\n",
       "\n",
       "    .dataframe tbody tr th {\n",
       "        vertical-align: top;\n",
       "    }\n",
       "\n",
       "    .dataframe thead th {\n",
       "        text-align: right;\n",
       "    }\n",
       "</style>\n",
       "<table border=\"1\" class=\"dataframe\">\n",
       "  <thead>\n",
       "    <tr style=\"text-align: right;\">\n",
       "      <th></th>\n",
       "      <th>Close</th>\n",
       "      <th>Volume</th>\n",
       "      <th>Open</th>\n",
       "      <th>High</th>\n",
       "      <th>Low</th>\n",
       "    </tr>\n",
       "    <tr>\n",
       "      <th>Date</th>\n",
       "      <th></th>\n",
       "      <th></th>\n",
       "      <th></th>\n",
       "      <th></th>\n",
       "      <th></th>\n",
       "    </tr>\n",
       "  </thead>\n",
       "  <tbody>\n",
       "    <tr>\n",
       "      <th>2020-02-18</th>\n",
       "      <td>$319</td>\n",
       "      <td>38190550</td>\n",
       "      <td>$315.36</td>\n",
       "      <td>$319.75</td>\n",
       "      <td>$314.61</td>\n",
       "    </tr>\n",
       "  </tbody>\n",
       "</table>\n",
       "</div>"
      ],
      "text/plain": [
       "            Close    Volume      Open      High       Low\n",
       "Date                                                     \n",
       "2020-02-18  $319   38190550  $315.36   $319.75   $314.61 "
      ]
     },
     "execution_count": 4,
     "metadata": {},
     "output_type": "execute_result"
    }
   ],
   "source": [
    "df['2020-02-18']"
   ]
  },
  {
   "cell_type": "code",
   "execution_count": 5,
   "metadata": {
    "scrolled": false
   },
   "outputs": [
    {
     "data": {
      "text/html": [
       "<div>\n",
       "<style scoped>\n",
       "    .dataframe tbody tr th:only-of-type {\n",
       "        vertical-align: middle;\n",
       "    }\n",
       "\n",
       "    .dataframe tbody tr th {\n",
       "        vertical-align: top;\n",
       "    }\n",
       "\n",
       "    .dataframe thead th {\n",
       "        text-align: right;\n",
       "    }\n",
       "</style>\n",
       "<table border=\"1\" class=\"dataframe\">\n",
       "  <thead>\n",
       "    <tr style=\"text-align: right;\">\n",
       "      <th></th>\n",
       "      <th>Close</th>\n",
       "      <th>Volume</th>\n",
       "      <th>Open</th>\n",
       "      <th>High</th>\n",
       "      <th>Low</th>\n",
       "    </tr>\n",
       "    <tr>\n",
       "      <th>Date</th>\n",
       "      <th></th>\n",
       "      <th></th>\n",
       "      <th></th>\n",
       "      <th></th>\n",
       "      <th></th>\n",
       "    </tr>\n",
       "  </thead>\n",
       "  <tbody>\n",
       "    <tr>\n",
       "      <th>2020-02-18</th>\n",
       "      <td>$319</td>\n",
       "      <td>38190550</td>\n",
       "      <td>$315.36</td>\n",
       "      <td>$319.75</td>\n",
       "      <td>$314.61</td>\n",
       "    </tr>\n",
       "    <tr>\n",
       "      <th>2020-02-14</th>\n",
       "      <td>$324.95</td>\n",
       "      <td>20028450</td>\n",
       "      <td>$324.74</td>\n",
       "      <td>$325.98</td>\n",
       "      <td>$322.85</td>\n",
       "    </tr>\n",
       "  </tbody>\n",
       "</table>\n",
       "</div>"
      ],
      "text/plain": [
       "               Close    Volume      Open      High       Low\n",
       "Date                                                        \n",
       "2020-02-18     $319   38190550  $315.36   $319.75   $314.61 \n",
       "2020-02-14  $324.95   20028450  $324.74   $325.98   $322.85 "
      ]
     },
     "execution_count": 5,
     "metadata": {},
     "output_type": "execute_result"
    }
   ],
   "source": [
    "df['2020-02-18':'2020-02-14']"
   ]
  },
  {
   "cell_type": "code",
   "execution_count": 6,
   "metadata": {},
   "outputs": [
    {
     "data": {
      "text/plain": [
       "DatetimeIndex(['2020-02-18', '2020-02-14', '2020-02-13', '2020-02-12',\n",
       "               '2020-02-11', '2020-02-10', '2020-02-07', '2020-02-06',\n",
       "               '2020-02-05', '2020-02-04', '2020-02-03', '2020-01-31',\n",
       "               '2020-01-30', '2020-01-29', '2020-01-28', '2020-01-27',\n",
       "               '2020-01-24', '2020-01-23', '2020-01-22', '2020-01-21'],\n",
       "              dtype='datetime64[ns]', name='Date', freq=None)"
      ]
     },
     "execution_count": 6,
     "metadata": {},
     "output_type": "execute_result"
    }
   ],
   "source": [
    "df.index"
   ]
  },
  {
   "cell_type": "code",
   "execution_count": 30,
   "metadata": {},
   "outputs": [
    {
     "data": {
      "text/html": [
       "<div>\n",
       "<style scoped>\n",
       "    .dataframe tbody tr th:only-of-type {\n",
       "        vertical-align: middle;\n",
       "    }\n",
       "\n",
       "    .dataframe tbody tr th {\n",
       "        vertical-align: top;\n",
       "    }\n",
       "\n",
       "    .dataframe thead th {\n",
       "        text-align: right;\n",
       "    }\n",
       "</style>\n",
       "<table border=\"1\" class=\"dataframe\">\n",
       "  <thead>\n",
       "    <tr style=\"text-align: right;\">\n",
       "      <th></th>\n",
       "      <th>Close</th>\n",
       "      <th>Volume</th>\n",
       "      <th>Open</th>\n",
       "      <th>High</th>\n",
       "      <th>Low</th>\n",
       "    </tr>\n",
       "    <tr>\n",
       "      <th>Date</th>\n",
       "      <th></th>\n",
       "      <th></th>\n",
       "      <th></th>\n",
       "      <th></th>\n",
       "      <th></th>\n",
       "    </tr>\n",
       "  </thead>\n",
       "  <tbody>\n",
       "    <tr>\n",
       "      <th>2020-02-18</th>\n",
       "      <td>$319</td>\n",
       "      <td>38190550</td>\n",
       "      <td>$315.36</td>\n",
       "      <td>$319.75</td>\n",
       "      <td>$314.61</td>\n",
       "    </tr>\n",
       "    <tr>\n",
       "      <th>2020-02-14</th>\n",
       "      <td>$324.95</td>\n",
       "      <td>20028450</td>\n",
       "      <td>$324.74</td>\n",
       "      <td>$325.98</td>\n",
       "      <td>$322.85</td>\n",
       "    </tr>\n",
       "    <tr>\n",
       "      <th>2020-02-13</th>\n",
       "      <td>$324.87</td>\n",
       "      <td>23686890</td>\n",
       "      <td>$324.19</td>\n",
       "      <td>$326.22</td>\n",
       "      <td>$323.35</td>\n",
       "    </tr>\n",
       "    <tr>\n",
       "      <th>2020-02-12</th>\n",
       "      <td>$327.20</td>\n",
       "      <td>28432570</td>\n",
       "      <td>$321.47</td>\n",
       "      <td>$327.22</td>\n",
       "      <td>$321.47</td>\n",
       "    </tr>\n",
       "    <tr>\n",
       "      <th>2020-02-11</th>\n",
       "      <td>$319.61</td>\n",
       "      <td>23580780</td>\n",
       "      <td>$323.60</td>\n",
       "      <td>$323.90</td>\n",
       "      <td>$318.71</td>\n",
       "    </tr>\n",
       "  </tbody>\n",
       "</table>\n",
       "</div>"
      ],
      "text/plain": [
       "               Close    Volume      Open      High       Low\n",
       "Date                                                        \n",
       "2020-02-18     $319   38190550  $315.36   $319.75   $314.61 \n",
       "2020-02-14  $324.95   20028450  $324.74   $325.98   $322.85 \n",
       "2020-02-13  $324.87   23686890  $324.19   $326.22   $323.35 \n",
       "2020-02-12  $327.20   28432570  $321.47   $327.22   $321.47 \n",
       "2020-02-11  $319.61   23580780  $323.60   $323.90   $318.71 "
      ]
     },
     "execution_count": 30,
     "metadata": {},
     "output_type": "execute_result"
    }
   ],
   "source": [
    "import pandas as pd\n",
    "df=pd.read_csv(\"HistoricalQuotes.csv\", parse_dates=[\"Date\"],index_col=\"Date\")\n",
    "df.head(5)"
   ]
  },
  {
   "cell_type": "code",
   "execution_count": 33,
   "metadata": {},
   "outputs": [
    {
     "data": {
      "text/plain": [
       "<matplotlib.axes._subplots.AxesSubplot at 0x127c64e0>"
      ]
     },
     "execution_count": 33,
     "metadata": {},
     "output_type": "execute_result"
    },
    {
     "data": {
      "image/png": "[encoded data removed]",
      "text/plain": [
       "<Figure size 432x288 with 1 Axes>"
      ]
     },
     "metadata": {
      "needs_background": "light"
     },
     "output_type": "display_data"
    }
   ],
   "source": [
    "%matplotlib inline\n",
    "df.resample('M').mean().plot()"
   ]
  },
  {
   "cell_type": "code",
   "execution_count": 37,
   "metadata": {},
   "outputs": [
    {
     "data": {
      "text/plain": [
       "<matplotlib.axes._subplots.AxesSubplot at 0x12874ac8>"
      ]
     },
     "execution_count": 37,
     "metadata": {},
     "output_type": "execute_result"
    },
    {
     "data": {
      "image/png": "[encoded data removed]",
      "text/plain": [
       "<Figure size 432x288 with 1 Axes>"
      ]
     },
     "metadata": {
      "needs_background": "light"
     },
     "output_type": "display_data"
    }
   ],
   "source": [
    "df.resample('W').mean().plot()"
   ]
  },
  {
   "cell_type": "code",
   "execution_count": 36,
   "metadata": {},
   "outputs": [
    {
     "data": {
      "text/plain": [
       "<matplotlib.axes._subplots.AxesSubplot at 0x128f5908>"
      ]
     },
     "execution_count": 36,
     "metadata": {},
     "output_type": "execute_result"
    },
    {
     "data": {
      "image/png": "[encoded data removed]",
      "text/plain": [
       "<Figure size 432x288 with 1 Axes>"
      ]
     },
     "metadata": {
      "needs_background": "light"
     },
     "output_type": "display_data"
    }
   ],
   "source": [
    "df.resample('W').mean().plot(kind=\"bar\")"
   ]
  },
  {
   "cell_type": "code",
   "execution_count": null,
   "metadata": {},
   "outputs": [],
   "source": []
  }
 ],
 "metadata": {
  "kernelspec": {
   "display_name": "Python 3",
   "language": "python",
   "name": "python3"
  },
  "language_info": {
   "codemirror_mode": {
    "name": "ipython",
    "version": 3
   },
   "file_extension": ".py",
   "mimetype": "text/x-python",
   "name": "python",
   "nbconvert_exporter": "python",
   "pygments_lexer": "ipython3",
   "version": "3.6.5"
  }
 },
 "nbformat": 4,
 "nbformat_minor": 2
}
