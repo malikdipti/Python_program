{
 "cells": [
  {
   "cell_type": "code",
   "execution_count": 33,
   "metadata": {},
   "outputs": [],
   "source": [
    "import pandas as pd\n",
    "whether_data=pd.DataFrame({\n",
    "    'day':['1/1/2017','1/1/2018','1/1/2019'],\n",
    "    'tempreture':['30','32','33'],\n",
    "    'windspeed':['3','4','5'],\n",
    "    'event':['rain','snow','sunny']\n",
    "})\n",
    "stock_data=pd.DataFrame({\n",
    "    \"ticker\":['GOOGLE','WMLT','BIGB'],\n",
    "    \"price\":[566,223,342],\n",
    "    \"pe\":[36.23,36.23,24.01],\n",
    "    \"eps\":[23,25,249]\n",
    "})\n"
   ]
  },
  {
   "cell_type": "code",
   "execution_count": 35,
   "metadata": {},
   "outputs": [],
   "source": [
    "with pd.ExcelWriter('stock_whether.xlsx') as writer:\n",
    "    whether_data.to_excel(writer,sheet_name='whether')\n",
    "    stock_data.to_excel(writer,sheet_name=\"stocks\")\n",
    "\n",
    "\n"
   ]
  },
  {
   "cell_type": "code",
   "execution_count": null,
   "metadata": {},
   "outputs": [],
   "source": []
  }
 ],
 "metadata": {
  "kernelspec": {
   "display_name": "Python 3",
   "language": "python",
   "name": "python3"
  },
  "language_info": {
   "codemirror_mode": {
    "name": "ipython",
    "version": 3
   },
   "file_extension": ".py",
   "mimetype": "text/x-python",
   "name": "python",
   "nbconvert_exporter": "python",
   "pygments_lexer": "ipython3",
   "version": "3.6.5"
  }
 },
 "nbformat": 4,
 "nbformat_minor": 2
}
